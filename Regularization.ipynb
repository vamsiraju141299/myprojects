{
  "cells": [
    {
      "cell_type": "code",
      "execution_count": null,
      "metadata": {
        "id": "AjPi254pR0Ca"
      },
      "outputs": [],
      "source": [
        "import numpy as np\n",
        "import pandas as pd\n",
        "from sklearn.datasets import make_classification"
      ]
    },
    {
      "cell_type": "code",
      "execution_count": null,
      "metadata": {
        "id": "S5BhnTOCR0Cf"
      },
      "outputs": [],
      "source": [
        "x, y = make_classification(n_samples=50000, n_features=15, n_informative=10, n_redundant=5,n_classes=2, weights=[0.7], class_sep=0.7, random_state=15)"
      ]
    },
    {
      "cell_type": "code",
      "execution_count": null,
      "metadata": {
        "id": "sczFm0XSR0Cg",
        "outputId": "3e662c11-ae5c-46f1-8be1-35bda12f1ffe"
      },
      "outputs": [
        {
          "data": {
            "text/plain": [
              "((50000, 15), (50000,))"
            ]
          },
          "execution_count": 3,
          "metadata": {},
          "output_type": "execute_result"
        }
      ],
      "source": [
        "x.shape, y.shape"
      ]
    },
    {
      "cell_type": "code",
      "execution_count": null,
      "metadata": {
        "id": "1DeXuOtaR0Ch"
      },
      "outputs": [],
      "source": [
        "from sklearn.model_selection import train_test_split\n",
        "x_train, x_test, y_train, y_test = train_test_split(x, y, test_size=0.25, random_state=15)"
      ]
    },
    {
      "cell_type": "code",
      "execution_count": null,
      "metadata": {
        "id": "deT75-CCR0Ci",
        "outputId": "5307cd98-7d2e-4cec-d6c2-f651b252f04b"
      },
      "outputs": [
        {
          "data": {
            "text/plain": [
              "((37500, 15), (12500, 15), (37500,), (12500,))"
            ]
          },
          "execution_count": 5,
          "metadata": {},
          "output_type": "execute_result"
        }
      ],
      "source": [
        "x_train.shape,x_test.shape,y_train.shape,y_test.shape"
      ]
    },
    {
      "cell_type": "code",
      "execution_count": null,
      "metadata": {
        "id": "otkYcrEBR0Ci",
        "outputId": "8bbf9d93-8220-41e6-90d3-3d9a4597a1fc"
      },
      "outputs": [
        {
          "data": {
            "text/plain": [
              "SGDClassifier(alpha=0.0001, average=False, class_weight=None,\n",
              "              early_stopping=False, epsilon=0.1, eta0=0.0001,\n",
              "              fit_intercept=True, l1_ratio=0.15, learning_rate='constant',\n",
              "              loss='log', max_iter=1000, n_iter_no_change=5, n_jobs=None,\n",
              "              penalty='l2', power_t=0.5, random_state=15, shuffle=True,\n",
              "              tol=0.001, validation_fraction=0.1, verbose=2, warm_start=False)"
            ]
          },
          "execution_count": 6,
          "metadata": {},
          "output_type": "execute_result"
        }
      ],
      "source": [
        "from sklearn import linear_model\n",
        "clf = linear_model.SGDClassifier(eta0=0.0001, alpha=0.0001, loss='log', random_state=15, penalty='l2', tol=1e-3, verbose=2, learning_rate='constant')\n",
        "clf"
      ]
    },
    {
      "cell_type": "code",
      "execution_count": null,
      "metadata": {
        "id": "t9twhfqHR0Cj",
        "outputId": "35d3ae33-f277-48f1-b693-3298c8d600dd"
      },
      "outputs": [
        {
          "name": "stdout",
          "output_type": "stream",
          "text": [
            "-- Epoch 1\n",
            "Norm: 0.77, NNZs: 15, Bias: -0.316653, T: 37500, Avg. loss: 0.455552\n",
            "Total training time: 0.02 seconds.\n",
            "-- Epoch 2\n",
            "Norm: 0.91, NNZs: 15, Bias: -0.472747, T: 75000, Avg. loss: 0.394686\n",
            "Total training time: 0.05 seconds.\n",
            "-- Epoch 3\n",
            "Norm: 0.98, NNZs: 15, Bias: -0.580082, T: 112500, Avg. loss: 0.385711\n",
            "Total training time: 0.07 seconds.\n",
            "-- Epoch 4\n",
            "Norm: 1.02, NNZs: 15, Bias: -0.658292, T: 150000, Avg. loss: 0.382083\n",
            "Total training time: 0.09 seconds.\n",
            "-- Epoch 5\n",
            "Norm: 1.04, NNZs: 15, Bias: -0.719528, T: 187500, Avg. loss: 0.380486\n",
            "Total training time: 0.11 seconds.\n",
            "-- Epoch 6\n",
            "Norm: 1.05, NNZs: 15, Bias: -0.763409, T: 225000, Avg. loss: 0.379578\n",
            "Total training time: 0.13 seconds.\n",
            "-- Epoch 7\n",
            "Norm: 1.06, NNZs: 15, Bias: -0.795106, T: 262500, Avg. loss: 0.379150\n",
            "Total training time: 0.14 seconds.\n",
            "-- Epoch 8\n",
            "Norm: 1.06, NNZs: 15, Bias: -0.819925, T: 300000, Avg. loss: 0.378856\n",
            "Total training time: 0.16 seconds.\n",
            "-- Epoch 9\n",
            "Norm: 1.07, NNZs: 15, Bias: -0.837805, T: 337500, Avg. loss: 0.378585\n",
            "Total training time: 0.17 seconds.\n",
            "-- Epoch 10\n",
            "Norm: 1.08, NNZs: 15, Bias: -0.853138, T: 375000, Avg. loss: 0.378630\n",
            "Total training time: 0.18 seconds.\n",
            "Convergence after 10 epochs took 0.18 seconds\n"
          ]
        },
        {
          "data": {
            "text/plain": [
              "SGDClassifier(alpha=0.0001, average=False, class_weight=None,\n",
              "              early_stopping=False, epsilon=0.1, eta0=0.0001,\n",
              "              fit_intercept=True, l1_ratio=0.15, learning_rate='constant',\n",
              "              loss='log', max_iter=1000, n_iter_no_change=5, n_jobs=None,\n",
              "              penalty='l2', power_t=0.5, random_state=15, shuffle=True,\n",
              "              tol=0.001, validation_fraction=0.1, verbose=2, warm_start=False)"
            ]
          },
          "execution_count": 7,
          "metadata": {},
          "output_type": "execute_result"
        }
      ],
      "source": [
        "clf.fit(X=x_train, y=y_train)"
      ]
    },
    {
      "cell_type": "code",
      "execution_count": null,
      "metadata": {
        "id": "7-_ojoNdR0Ck",
        "outputId": "ce588c27-9db8-4a31-c1b7-8d1893ae5777"
      },
      "outputs": [
        {
          "data": {
            "text/plain": [
              "(array([[-0.42336692,  0.18547565, -0.14859036,  0.34144407, -0.2081867 ,\n",
              "          0.56016579, -0.45242483, -0.09408813,  0.2092732 ,  0.18084126,\n",
              "          0.19705191,  0.00421916, -0.0796037 ,  0.33852802,  0.02266721]]),\n",
              " (1, 15),\n",
              " array([-0.8531383]))"
            ]
          },
          "execution_count": 8,
          "metadata": {},
          "output_type": "execute_result"
        }
      ],
      "source": [
        "clf.coef_, clf.coef_.shape, clf.intercept_"
      ]
    },
    {
      "cell_type": "markdown",
      "metadata": {
        "id": "PudcPoQAR0Cl"
      },
      "source": [
        "### Instructions\n",
        "- Load the datasets(train and test) into the respective arrays\n",
        "- Initialize the weight_vector and intercept term randomly\n",
        "- Calculate the initlal log loss for the train and test data with the current weight and intercept and store it in a list\n",
        "- for each epoch:\n",
        "    - for each batch of data points in train: (keep batch size=1)\n",
        "        - calculate the gradient of loss function w.r.t each weight in weight vector\n",
        "        - Calculate the gradient of the intercept <a href='https://drive.google.com/file/d/1nQ08-XY4zvOLzRX-lGf8EYB5arb7-m1H/view?usp=sharing'>check this</a>\n",
        "        - Update weights and intercept (check the equation number 32 in the above mentioned <a href='https://drive.google.com/file/d/1nQ08-XY4zvOLzRX-lGf8EYB5arb7-m1H/view?usp=sharing'>pdf</a>): <br>\n",
        "        $w^{(t+1)} ← (1 − \\frac{αλ}{N} )w^{(t)} + αx_n(y_n − σ((w^{(t)})^{T} x_n+b^{t}))$ <br>\n",
        "        $b^{(t+1)} ← (b^t +  α(y_n - σ((w^{(t)})^{T} x_n+b^{t}))$ \n",
        "        - calculate the log loss for train and test with the updated weights (you can check the python assignment 10th question)\n",
        "        - And if you wish, you can compare the previous loss and the current loss, if it is not updating, then\n",
        "        you can stop the training\n",
        "        - append this loss in the list ( this will be used to see how loss is changing for each epoch after the training is over )\n",
        "- Plot the train and test loss i.e on x-axis the epoch number, and on y-axis the loss\n",
        "- <strong>GOAL</strong>: compare your implementation and SGDClassifier's the weights and intercept, make sure they are as close as possible i.e difference should be in terms of 10^-3"
      ]
    },
    {
      "cell_type": "code",
      "execution_count": null,
      "metadata": {
        "id": "zwKgFdg6R0Cp"
      },
      "outputs": [],
      "source": [
        "def sigmoid(z):\n",
        "    return 1/(1+np.exp(-z))"
      ]
    },
    {
      "cell_type": "code",
      "execution_count": null,
      "metadata": {
        "id": "qlDgRBM1R0Cq"
      },
      "outputs": [],
      "source": [
        "def log_loss(y,pred):\n",
        "    N=len(y)\n",
        "    total=0\n",
        "    for i in range(N):\n",
        "        total=total+(y[i]*(np.log(pred[i]))+((1-y[i])*(np.log(1-pred[i]))))\n",
        "    return -1*(total/N)"
      ]
    },
    {
      "cell_type": "code",
      "execution_count": null,
      "metadata": {
        "id": "s5qouEvfR0Cr"
      },
      "outputs": [],
      "source": [
        "def dw(x,y,w,b,alpha,N):\n",
        "    delw=x*(y-sigmoid(np.dot(x,w.T)+b))-(w*0.0001)/N  \n",
        "    return delw"
      ]
    },
    {
      "cell_type": "code",
      "execution_count": null,
      "metadata": {
        "id": "34GxPONRR0Cr"
      },
      "outputs": [],
      "source": [
        "def db(x,y,w,b):\n",
        "    '''In this function, we will compute gradient w.r.to b '''\n",
        "    delb=(y-sigmoid(np.dot(x,w.T)+b))\n",
        "    return delb"
      ]
    },
    {
      "cell_type": "code",
      "execution_count": null,
      "metadata": {
        "id": "-cproSITR0Ct"
      },
      "outputs": [],
      "source": [
        "w = np.zeros_like(x_train[0])\n",
        "b = np.zeros(1)"
      ]
    },
    {
      "cell_type": "code",
      "execution_count": null,
      "metadata": {
        "id": "YMW9QmH5R0Cu",
        "outputId": "6628c2a7-9e3d-4403-aeaa-a5efa4af1582"
      },
      "outputs": [
        {
          "name": "stdout",
          "output_type": "stream",
          "text": [
            "Train_data log-loss 0.6931471805594285\n"
          ]
        }
      ],
      "source": [
        "print(\"Train_data log-loss\",log_loss(y_train,sigmoid(np.dot(x_train,w.T)+b)))"
      ]
    },
    {
      "cell_type": "code",
      "execution_count": null,
      "metadata": {
        "id": "tlBlLirJR0Cv",
        "outputId": "b97a083e-34c3-49ce-95e0-4dbfb4cedc0a"
      },
      "outputs": [
        {
          "name": "stdout",
          "output_type": "stream",
          "text": [
            "Test_data log-loss 0.6931471805600672\n"
          ]
        }
      ],
      "source": [
        "print(\"Test_data log-loss\",log_loss(y_test,sigmoid(np.dot(x_test,w.T)+b)))"
      ]
    },
    {
      "cell_type": "code",
      "execution_count": null,
      "metadata": {
        "id": "LpHOkxU5R0Cw"
      },
      "outputs": [],
      "source": [
        "def model(x_train,x_test,y_train,y_test,epoch):\n",
        "    loss_train=[]\n",
        "    loss_test=[]\n",
        "    w = np.zeros_like(x_train[0])\n",
        "    b = np.zeros(1)\n",
        "    for i in range(epoch): #loop for each epoch\n",
        "        for j in range(len(x_train)): #for every batch\n",
        "            gradient_weight=dw(x_train[j,],y_train[j,],w,b,0.0001,len(x_train))\n",
        "            gradient_bias=db(x_train[j,],y_train[j,],w,b)\n",
        "            w=w+(0.0001)*gradient_weight\n",
        "            b=b+(0.0001)*gradient_bias\n",
        "            \n",
        "        train_pred=[]\n",
        "        for j in range(len(x_train)):\n",
        "            train_pred.append(sigmoid(b+np.dot(x_train[j,],w.T)))\n",
        "        train_loss=log_loss(y_train,train_pred)\n",
        "        \n",
        "        loss_train.append(train_loss)\n",
        "        \n",
        "        test_pred=[]\n",
        "        for j in range(len(x_test)):\n",
        "            test_pred.append(sigmoid(b+np.dot(x_test[j,],w.T)))\n",
        "        test_loss=log_loss(y_test,test_pred)\n",
        "        \n",
        "        loss_test.append(test_loss)\n",
        "        \n",
        "    return loss_train,loss_test,w,b"
      ]
    },
    {
      "cell_type": "code",
      "execution_count": null,
      "metadata": {
        "id": "rGHQBMjsR0Cx"
      },
      "outputs": [],
      "source": [
        "train_loss,test_loss,w,b=model(x_train,x_test,y_train,y_test,50)"
      ]
    },
    {
      "cell_type": "code",
      "execution_count": null,
      "metadata": {
        "id": "fsz4MMtqR0Cx",
        "outputId": "589314e7-46fb-4d59-c382-53c1acc43b81"
      },
      "outputs": [
        {
          "data": {
            "image/png": "[encoded data removed]",
            "text/plain": [
              "<Figure size 432x288 with 1 Axes>"
            ]
          },
          "metadata": {
            "needs_background": "light"
          },
          "output_type": "display_data"
        }
      ],
      "source": [
        "epoc=list(range(50))\n",
        "import matplotlib.pyplot as plt\n",
        "plt.plot(epoc,train_loss,label=\"TRAINING LOG LOSS PER EPOCH\")\n",
        "plt.plot(epoc,test_loss,label=\"TEST LOG LOSS PER EPOCH\")\n",
        "plt.xlabel(\"EPOCHS\")\n",
        "plt.ylabel(\"LOG LOSS\")\n",
        "plt.legend()\n",
        "plt.show()"
      ]
    },
    {
      "cell_type": "code",
      "execution_count": null,
      "metadata": {
        "id": "VbIYEwUjR0Cy",
        "outputId": "6ba6a247-c0d7-44d2-b0d0-f33f421b3dc0"
      },
      "outputs": [
        {
          "name": "stdout",
          "output_type": "stream",
          "text": [
            "Weight:  [-0.42979243  0.1930352  -0.14846994  0.33809364 -0.22128233  0.56994892\n",
            " -0.44518163 -0.08990403  0.2218295   0.17382964  0.19874846 -0.0005843\n",
            " -0.08133411  0.3390901   0.02298796]\n"
          ]
        }
      ],
      "source": [
        "print(\"Weight: \",w)"
      ]
    },
    {
      "cell_type": "code",
      "execution_count": null,
      "metadata": {
        "id": "Fe387jAJR0Cy",
        "outputId": "7005672b-7410-45fb-9218-6db0468265a3"
      },
      "outputs": [
        {
          "name": "stdout",
          "output_type": "stream",
          "text": [
            "Bias:  [-0.89225216]\n"
          ]
        }
      ],
      "source": [
        "print(\"Bias: \",b)"
      ]
    },
    {
      "cell_type": "markdown",
      "metadata": {
        "id": "x_RpUnBJR0Cz"
      },
      "source": [
        "**GOAL: compare your implementation and SGDClassifier's the weights and intercept, make sure they are as close as possible i.e difference should be in terms of 10^-3**"
      ]
    },
    {
      "cell_type": "code",
      "execution_count": null,
      "metadata": {
        "id": "_dVxwjWNR0Cz",
        "outputId": "4de30553-8964-4e51-d251-808b915efe10"
      },
      "outputs": [
        {
          "data": {
            "text/plain": [
              "array([[-0.00642552,  0.00755955,  0.00012041, -0.00335043, -0.01309563,\n",
              "         0.00978314,  0.00724319,  0.00418409,  0.0125563 , -0.00701162,\n",
              "         0.00169655, -0.00480346, -0.00173041,  0.00056208,  0.00032075]])"
            ]
          },
          "execution_count": 24,
          "metadata": {},
          "output_type": "execute_result"
        }
      ],
      "source": [
        "w-clf.coef_"
      ]
    },
    {
      "cell_type": "code",
      "execution_count": null,
      "metadata": {
        "id": "tsbTV1C3R0Cz",
        "outputId": "e5d24bca-5d44-4cab-b54f-d529bf0f952c"
      },
      "outputs": [
        {
          "data": {
            "text/plain": [
              "array([-0.03911387])"
            ]
          },
          "execution_count": 25,
          "metadata": {},
          "output_type": "execute_result"
        }
      ],
      "source": [
        "b-clf.intercept_"
      ]
    }
  ],
  "metadata": {
    "kernelspec": {
      "display_name": "Python 3",
      "language": "python",
      "name": "python3"
    },
    "language_info": {
      "codemirror_mode": {
        "name": "ipython",
        "version": 3
      },
      "file_extension": ".py",
      "mimetype": "text/x-python",
      "name": "python",
      "nbconvert_exporter": "python",
      "pygments_lexer": "ipython3",
      "version": "3.7.1"
    },
    "colab": {
      "provenance": []
    }
  },
  "nbformat": 4,
  "nbformat_minor": 0
}