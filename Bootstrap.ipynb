{
  "cells": [
    {
      "cell_type": "markdown",
      "metadata": {
        "id": "RAHap1Z3FZC-"
      },
      "source": [
        "<b>There will be some functions that start with the word \"grader\" ex: grader_sampples(), grader_30().. etc, you should not change those function definition.\n",
        "\n",
        "Every Grader function has to return True.</b>"
      ]
    },
    {
      "cell_type": "markdown",
      "metadata": {
        "id": "cuxBq_bvrwh2"
      },
      "source": [
        "<font color='blue'> <b>Importing packages</b> </font>"
      ]
    },
    {
      "cell_type": "code",
      "execution_count": null,
      "metadata": {
        "id": "m6ag91ijrQOs"
      },
      "outputs": [],
      "source": [
        "import numpy as np # importing numpy for numerical computation\n",
        "from sklearn.datasets import load_boston # here we are using sklearn's boston dataset\n",
        "from sklearn.metrics import mean_squared_error # importing mean_squared_error metric"
      ]
    },
    {
      "cell_type": "code",
      "execution_count": null,
      "metadata": {
        "id": "CcHOsONTt1K_"
      },
      "outputs": [],
      "source": [
        "boston = load_boston()\n",
        "x=boston.data #independent variables\n",
        "y=boston.target #target variable"
      ]
    },
    {
      "cell_type": "code",
      "execution_count": null,
      "metadata": {
        "colab": {
          "base_uri": "https://localhost:8080/",
          "height": 34
        },
        "id": "pc1htEFYuLRj",
        "outputId": "f5b60712-98b3-4cdc-b629-3546c1e3859c"
      },
      "outputs": [
        {
          "data": {
            "text/plain": [
              "(506, 13)"
            ]
          },
          "execution_count": 190,
          "metadata": {},
          "output_type": "execute_result"
        }
      ],
      "source": [
        "x.shape"
      ]
    },
    {
      "cell_type": "code",
      "execution_count": null,
      "metadata": {
        "colab": {
          "base_uri": "https://localhost:8080/",
          "height": 269
        },
        "id": "kQle3T_wuOa3",
        "outputId": "521c7bdd-5316-48d5-c534-b61d170d2c28"
      },
      "outputs": [
        {
          "data": {
            "text/plain": [
              "array([[6.3200e-03, 1.8000e+01, 2.3100e+00, 0.0000e+00, 5.3800e-01,\n",
              "        6.5750e+00, 6.5200e+01, 4.0900e+00, 1.0000e+00, 2.9600e+02,\n",
              "        1.5300e+01, 3.9690e+02, 4.9800e+00],\n",
              "       [2.7310e-02, 0.0000e+00, 7.0700e+00, 0.0000e+00, 4.6900e-01,\n",
              "        6.4210e+00, 7.8900e+01, 4.9671e+00, 2.0000e+00, 2.4200e+02,\n",
              "        1.7800e+01, 3.9690e+02, 9.1400e+00],\n",
              "       [2.7290e-02, 0.0000e+00, 7.0700e+00, 0.0000e+00, 4.6900e-01,\n",
              "        7.1850e+00, 6.1100e+01, 4.9671e+00, 2.0000e+00, 2.4200e+02,\n",
              "        1.7800e+01, 3.9283e+02, 4.0300e+00],\n",
              "       [3.2370e-02, 0.0000e+00, 2.1800e+00, 0.0000e+00, 4.5800e-01,\n",
              "        6.9980e+00, 4.5800e+01, 6.0622e+00, 3.0000e+00, 2.2200e+02,\n",
              "        1.8700e+01, 3.9463e+02, 2.9400e+00],\n",
              "       [6.9050e-02, 0.0000e+00, 2.1800e+00, 0.0000e+00, 4.5800e-01,\n",
              "        7.1470e+00, 5.4200e+01, 6.0622e+00, 3.0000e+00, 2.2200e+02,\n",
              "        1.8700e+01, 3.9690e+02, 5.3300e+00]])"
            ]
          },
          "execution_count": 191,
          "metadata": {},
          "output_type": "execute_result"
        }
      ],
      "source": [
        "x[:5]"
      ]
    },
    {
      "cell_type": "markdown",
      "metadata": {
        "id": "AEa_HqRZloH4"
      },
      "source": [
        "## <font color='red'><b>Task 1</b></font>"
      ]
    },
    {
      "cell_type": "markdown",
      "metadata": {
        "id": "YQ5q8IxHNRk3"
      },
      "source": [
        "<font color='red'> <b>Step - 1</b></font>"
      ]
    },
    {
      "cell_type": "markdown",
      "metadata": {
        "id": "GJCFCaOzl7Mr"
      },
      "source": [
        "*  <font color='blue'><b>Creating samples</b></font><br>\n",
        "    <b> Randomly create 30 samples from the whole boston data points</b>\n",
        "    *  Creating each sample: Consider any random 303(60% of 506) data points from whole data set and then replicate any 203 points from the sampled points\n",
        "    \n",
        "     For better understanding of this procedure lets check this examples, assume we have 10 data points [1,2,3,4,5,6,7,8,9,10], first we take 6 data points randomly , consider we have selected [4, 5, 7, 8, 9, 3] now we will replicate 4 points from [4, 5, 7, 8, 9, 3], consder they are [5, 8, 3,7] so our final sample will be [4, 5, 7, 8, 9, 3, 5, 8, 3,7]\n",
        "* <font color='blue'><b> Create 30 samples </b></font>\n",
        "    *  Note that as a part of the Bagging when you are taking the random samples <b>make sure each of the sample will have different set of columns</b><br>\n",
        "Ex: Assume we have 10 columns[1 ,2 ,3 ,4 ,5 ,6 ,7 ,8 ,9 ,10] for the first sample we will select [3, 4, 5, 9, 1, 2] and for the second sample  [7, 9, 1, 4, 5, 6, 2] and so on...\n",
        "Make sure each sample will have atleast 3 feautres/columns/attributes"
      ]
    },
    {
      "cell_type": "markdown",
      "metadata": {
        "id": "zUqFEBSvNjCa"
      },
      "source": [
        "<font color='red'><b>Step - 2 </b></font>"
      ]
    },
    {
      "cell_type": "markdown",
      "metadata": {
        "id": "uqi9AhCYNq3Z"
      },
      "source": [
        "<font color='blue'><b>Building High Variance Models on each of the sample and finding train MSE value</b></font>"
      ]
    },
    {
      "cell_type": "markdown",
      "metadata": {
        "id": "-lLBnZHXOFln"
      },
      "source": [
        "*  Build a regression trees on each of 30 samples.\n",
        "*  Computed the predicted values of each data point(506 data points) in your corpus.\n",
        "*  Predicted house price of $i^{th}$ data point $y^{i}_{pred} =  \\frac{1}{30}\\sum_{k=1}^{30}(\\text{predicted value of } x^{i} \\text{ with } k^{th} \\text{ model})$\n",
        "*  Now calculate the $MSE =  \\frac{1}{506}\\sum_{i=1}^{506}(y^{i} - y^{i}_{pred})^{2}$"
      ]
    },
    {
      "cell_type": "markdown",
      "metadata": {
        "id": "Kls23JLnSN23"
      },
      "source": [
        "<font color='red'> <b>Step - 3 </b></font>"
      ]
    },
    {
      "cell_type": "markdown",
      "metadata": {
        "id": "rz2GchkGSWnh"
      },
      "source": [
        "*  <font color='blue'><b>Calculating the OOB score </b></font>"
      ]
    },
    {
      "cell_type": "markdown",
      "metadata": {
        "id": "DGHkVV2kSibm"
      },
      "source": [
        "*  Predicted house price of $i^{th}$ data point $y^{i}_{pred} =  \\frac{1}{k}\\sum_{\\text{k= model which was buit on samples not included } x^{i}}(\\text{predicted value of } x^{i} \\text{ with } k^{th} \\text{ model})$.\n",
        "*  Now calculate the $OOB Score =  \\frac{1}{506}\\sum_{i=1}^{506}(y^{i} - y^{i}_{pred})^{2}$."
      ]
    },
    {
      "cell_type": "markdown",
      "metadata": {
        "id": "RK860ocxTyoz"
      },
      "source": [
        "# <font color='red'><b>Task 2</b></font>"
      ]
    },
    {
      "cell_type": "markdown",
      "metadata": {
        "id": "1dme-N6TUCrY"
      },
      "source": [
        "*  <font color='blue'><b>Computing CI of OOB Score and Train MSE</b></font>\n",
        "  *   Repeat Task 1 for 35 times, and for each iteration store the Train MSE and OOB score </li>\n",
        "<li> After this we will have 35 Train MSE values and 35 OOB scores </li>\n",
        "<li> using these 35 values (assume like a sample) find the confidence intravels of MSE and OOB Score </li>\n",
        "<li> you need to report CI of MSE and CI of OOB Score </li>\n",
        "<li> Note: Refer the Central_Limit_theorem.ipynb to check how to find the confidence intravel</li>\n",
        "</ol>"
      ]
    },
    {
      "cell_type": "markdown",
      "metadata": {
        "id": "O6UcH1x9Uwrj"
      },
      "source": [
        "# <font color='red'><b>Task 3</b></font>"
      ]
    },
    {
      "cell_type": "markdown",
      "metadata": {
        "id": "bOC_AgsLU7OH"
      },
      "source": [
        "*  <font color='blue'><b>Given a single query point predict the price of house.</b></font>"
      ]
    },
    {
      "cell_type": "markdown",
      "metadata": {
        "id": "HYs5jSFdVILe"
      },
      "source": [
        "Consider xq= [0.18,20.0,5.00,0.0,0.421,5.60,72.2,7.95,7.0,30.0,19.1,372.13,18.60] \n",
        "Predict the house price for this point as mentioned in the step 2 of Task 1."
      ]
    },
    {
      "cell_type": "markdown",
      "metadata": {
        "id": "_6gxZEsFWm-8"
      },
      "source": [
        "<br><br><br>"
      ]
    },
    {
      "cell_type": "markdown",
      "metadata": {
        "id": "V2fHTdS_zpgG"
      },
      "source": [
        "# <font color='blue'> <b>Task - 1</b></font>"
      ]
    },
    {
      "cell_type": "markdown",
      "metadata": {
        "id": "e0yGBuryOwHz"
      },
      "source": [
        "<font color='blue'><b>Step - 1</b></font>"
      ]
    },
    {
      "cell_type": "markdown",
      "metadata": {
        "id": "lJXX8vf3z073"
      },
      "source": [
        "*  <font color='blue'> <b>Creating samples</b></font>"
      ]
    },
    {
      "cell_type": "markdown",
      "metadata": {
        "id": "CSVaWG1F4uCZ"
      },
      "source": [
        "<font color='Orange'><b>Algorithm</b></font>\n",
        "\n",
        "![alt text](https://i.imgur.com/BTVYXQ1.jpg/)"
      ]
    },
    {
      "cell_type": "markdown",
      "metadata": {
        "id": "f_oWoN97BhDY"
      },
      "source": [
        "*  <font color='blue'><b> Write code for generating samples</b></font>"
      ]
    },
    {
      "cell_type": "code",
      "execution_count": null,
      "metadata": {
        "id": "Ph_6D2SDzz7F"
      },
      "outputs": [],
      "source": [
        "from numpy.random import choice\n",
        "import random\n",
        "import pandas as pd\n",
        "def generating_samples(input_data, target_data):\n",
        "\n",
        "    '''In this function, we will write code for generating 30 samples '''\n",
        "    # you can use random.choice to generate random indices without replacement\n",
        "    # Please have a look at this link https://docs.scipy.org/doc/numpy-1.16.0/reference/generated/numpy.random.choice.html for more details\n",
        "    # Please follow above pseudo code for generating samples \n",
        "    input_data=pd.DataFrame(input_data)\n",
        "    target_data=pd.DataFrame(target_data)\n",
        "    \n",
        "    #selecting the rows\n",
        "    selected_rows=choice(input_data.shape[0],303,replace=False)\n",
        "    replicated_rows=choice(selected_rows,203,replace=False)\n",
        "    \n",
        "    #selecting the columns\n",
        "    selected_columns=choice(input_data.shape[1],random.randint(3, input_data.shape[1]),replace=False)\n",
        "    \n",
        "    #creating the dataset\n",
        "    sample_data=input_data.iloc[selected_rows,selected_columns]\n",
        "    sample_target=target_data.iloc[selected_rows]\n",
        "    \n",
        "    #creating the dataset for replicated data\n",
        "    replicated_sample_data=input_data.iloc[replicated_rows,selected_columns]\n",
        "    replicated_sample_target=target_data.iloc[replicated_rows]\n",
        "    \n",
        "    #Applying vertical stack\n",
        "    sampled_input_data=np.vstack((sample_data,replicated_sample_data))\n",
        "    sampled_target_data=np.vstack((sample_target,replicated_sample_target))\n",
        "    \n",
        "    return sampled_input_data,sampled_target_data,selected_rows,selected_columns\n",
        "    # return sampled_input_data , sampled_target_data,selected_rows,selected_columns\n",
        "    #note please return as lists"
      ]
    },
    {
      "cell_type": "markdown",
      "metadata": {
        "id": "MivEQFlm7iOg"
      },
      "source": [
        "<font color='cyan'> <b> Grader function - 1 </b> </fongt>"
      ]
    },
    {
      "cell_type": "code",
      "execution_count": null,
      "metadata": {
        "id": "AVvuhNzm7uld",
        "outputId": "68746330-b016-4741-eddf-b2752c9b48c2"
      },
      "outputs": [
        {
          "data": {
            "text/plain": [
              "True"
            ]
          },
          "execution_count": 193,
          "metadata": {},
          "output_type": "execute_result"
        }
      ],
      "source": [
        "def grader_samples(a,b,c,d):\n",
        "    length = (len(a)==506  and len(b)==506)\n",
        "    sampled = (len(a)-len(set([str(i) for i in a]))==203)\n",
        "    rows_length = (len(c)==303)\n",
        "    column_length= (len(d)>=3)\n",
        "    assert(length and sampled and rows_length and column_length)\n",
        "    return True\n",
        "a,b,c,d = generating_samples(x, y)\n",
        "grader_samples(a,b,c,d)"
      ]
    },
    {
      "cell_type": "markdown",
      "metadata": {
        "id": "b4LSsmn4Jn2_"
      },
      "source": [
        "*  <font color='blue'> <b>Create 30 samples </b>"
      ]
    },
    {
      "cell_type": "markdown",
      "metadata": {
        "id": "3ec7MN6sL2BZ"
      },
      "source": [
        "![alt text](https://i.imgur.com/p8eZaWL.jpg)"
      ]
    },
    {
      "cell_type": "code",
      "execution_count": null,
      "metadata": {
        "id": "XXlKWjCcBvTk"
      },
      "outputs": [],
      "source": [
        "# Use generating_samples function to create 30 samples \n",
        "# store these created samples in a list\n",
        "list_input_data =[]\n",
        "list_output_data =[]\n",
        "list_selected_row= []\n",
        "list_selected_columns=[]\n",
        "for i in range(0,30):\n",
        "    a,b,c,d=generating_samples(x,y)\n",
        "    list_input_data.append(a)\n",
        "    list_output_data.append(b)\n",
        "    list_selected_row.append(c)\n",
        "    list_selected_columns.append(d)"
      ]
    },
    {
      "cell_type": "markdown",
      "metadata": {
        "id": "MXUz9VFiMQkh"
      },
      "source": [
        "<font color='cyan'> <b>Grader function - 2 </b></font>"
      ]
    },
    {
      "cell_type": "code",
      "execution_count": null,
      "metadata": {
        "id": "hCvIq8NuMWOC",
        "outputId": "1819d393-a1a1-46cd-b137-c2e9847de42d"
      },
      "outputs": [
        {
          "data": {
            "text/plain": [
              "True"
            ]
          },
          "execution_count": 195,
          "metadata": {},
          "output_type": "execute_result"
        }
      ],
      "source": [
        "def grader_30(a):\n",
        "    assert(len(a)==30 and len(a[0])==506)\n",
        "    return True\n",
        "grader_30(list_input_data)"
      ]
    },
    {
      "cell_type": "markdown",
      "metadata": {
        "id": "7Pv-mkZkO6dh"
      },
      "source": [
        "<br>"
      ]
    },
    {
      "cell_type": "markdown",
      "metadata": {
        "id": "whaHCPB0O8qF"
      },
      "source": [
        "<font color='red'><b>Step - 2 </b></font>"
      ]
    },
    {
      "cell_type": "markdown",
      "metadata": {
        "id": "XBy4zXSWPtU8"
      },
      "source": [
        "<font color='orange'><b>Flowchart for building tree</b></font>"
      ]
    },
    {
      "cell_type": "markdown",
      "metadata": {
        "id": "5xvH06HPQBdP"
      },
      "source": [
        "![alt text](https://i.imgur.com/pcXfSmp.png)"
      ]
    },
    {
      "cell_type": "markdown",
      "metadata": {
        "id": "WRwPO_uHQjul"
      },
      "source": [
        "*  <font color='blue'><b> Write code for building regression trees</b></font>"
      ]
    },
    {
      "cell_type": "code",
      "execution_count": null,
      "metadata": {
        "id": "YWQp6tRwMthq"
      },
      "outputs": [],
      "source": [
        "from sklearn.tree import DecisionTreeRegressor\n",
        "list_of_all_models=[]\n",
        "for i in range(0,30):\n",
        "    model=DecisionTreeRegressor(random_state=0,max_depth=None)\n",
        "    model.fit(list_input_data[i],list_output_data[i])\n",
        "    list_of_all_models.append(model)"
      ]
    },
    {
      "cell_type": "markdown",
      "metadata": {
        "id": "2o0aXeH4SLb4"
      },
      "source": [
        "*  <font color='blue'><b> Predicting building regression trees</b></font>"
      ]
    },
    {
      "cell_type": "code",
      "execution_count": null,
      "metadata": {
        "id": "LIYdbBgCSLb5"
      },
      "outputs": [],
      "source": [
        "res=[]\n",
        "for i in range(len(x)):\n",
        "    pred=0\n",
        "    for j in range(len(list_of_all_models)):\n",
        "        pred=pred+list_of_all_models[j].predict(pd.DataFrame(x).iloc[i:i+1,list_selected_columns[j]])\n",
        "    res.append(pred/30)"
      ]
    },
    {
      "cell_type": "markdown",
      "metadata": {
        "id": "21j8BKfAQ1U8"
      },
      "source": [
        "<font color='orange'><b>Flowchart for calculating MSE </b></font>"
      ]
    },
    {
      "cell_type": "markdown",
      "metadata": {
        "id": "8Q0mTBD2RBx_"
      },
      "source": [
        "![alt text](https://i.imgur.com/sPEE618.png)"
      ]
    },
    {
      "cell_type": "markdown",
      "metadata": {
        "id": "6e-UamlHRjPy"
      },
      "source": [
        "After getting predicted_y for each data point, we can use sklearns mean_squared_error to calculate the MSE between predicted_y and actual_y."
      ]
    },
    {
      "cell_type": "markdown",
      "metadata": {
        "id": "TnIMT7_oR312"
      },
      "source": [
        "*  <font color='blue'><b> Write code for calculating MSE</b></font>"
      ]
    },
    {
      "cell_type": "code",
      "execution_count": null,
      "metadata": {
        "id": "_N7p2o56SLb6",
        "outputId": "d689d712-45a2-466f-c12d-934c04bc8a47"
      },
      "outputs": [
        {
          "name": "stdout",
          "output_type": "stream",
          "text": [
            "[2.28930857]\n"
          ]
        }
      ],
      "source": [
        "mse=0\n",
        "for i in range(len(y)):\n",
        "    mse=mse+(y[i]-res[i])**2\n",
        "print(mse/len(y))"
      ]
    },
    {
      "cell_type": "markdown",
      "metadata": {
        "id": "RuclPDMnSz8F"
      },
      "source": [
        "<font color='blue'><b>Step - 3 </b></font>"
      ]
    },
    {
      "cell_type": "markdown",
      "metadata": {
        "id": "ESb9FSIDTM5V"
      },
      "source": [
        "<font color='orange'><b>Flowchart for calculating OOB score</b></font>"
      ]
    },
    {
      "cell_type": "markdown",
      "metadata": {
        "id": "HB-d6NMETbd9"
      },
      "source": [
        "![alt text](https://i.imgur.com/95S5Mtm.png)"
      ]
    },
    {
      "cell_type": "markdown",
      "metadata": {
        "id": "WW3GOcFzTqbt"
      },
      "source": [
        "Now calculate the $OOB Score =  \\frac{1}{506}\\sum_{i=1}^{506}(y^{i} - y^{i}_{pred})^{2}$."
      ]
    },
    {
      "cell_type": "markdown",
      "metadata": {
        "id": "zBqcS03pUYSZ"
      },
      "source": [
        "*  <font color='blue'><b> Write code for calculating OOB score </b></font>"
      ]
    },
    {
      "cell_type": "code",
      "execution_count": null,
      "metadata": {
        "id": "Fog_6DNdS-h_"
      },
      "outputs": [],
      "source": [
        "oob=[]\n",
        "for i in range(len(x)):\n",
        "    k=0\n",
        "    score=0\n",
        "    for j in range(30):\n",
        "        if i not in list_selected_row[j]:\n",
        "            score=score+list_of_all_models[j].predict(pd.DataFrame(x).iloc[i:i+1,list_selected_columns[j]])\n",
        "            k=k+1\n",
        "    oob.append(score/k)"
      ]
    },
    {
      "cell_type": "code",
      "execution_count": null,
      "metadata": {
        "id": "wpqM7a0CSLb7",
        "outputId": "dad843fd-66f2-450d-ca9b-0a589e9ff11e"
      },
      "outputs": [
        {
          "name": "stdout",
          "output_type": "stream",
          "text": [
            "[14.85508413]\n"
          ]
        }
      ],
      "source": [
        "oobs=0\n",
        "for i in range(len(y)):\n",
        "    oobs=oobs+(y[i]-oob[i])**2\n",
        "print(oobs/len(y))"
      ]
    },
    {
      "cell_type": "markdown",
      "metadata": {
        "id": "sbuiwX3OUjUI"
      },
      "source": [
        "# <font color='blue'><b>Task 2</b></font>"
      ]
    },
    {
      "cell_type": "code",
      "execution_count": null,
      "metadata": {
        "id": "ceW5-D88Uswi"
      },
      "outputs": [],
      "source": [
        "from sklearn.tree import DecisionTreeRegressor\n",
        "MSE=[]\n",
        "OOB=[]\n",
        "for i in range(35):\n",
        "    list_input_data =[]\n",
        "    list_output_data =[]\n",
        "    list_selected_row= []\n",
        "    list_selected_columns=[]\n",
        "    for i in range(0,30):\n",
        "        a,b,c,d=generating_samples(x,y)\n",
        "        list_input_data.append(a)\n",
        "        list_output_data.append(b)\n",
        "        list_selected_row.append(c)\n",
        "        list_selected_columns.append(d)\n",
        "    list_of_all_models=[]\n",
        "    for i in range(0,30):\n",
        "        model=DecisionTreeRegressor(random_state=0,max_depth=None)\n",
        "        model.fit(list_input_data[i],list_output_data[i])\n",
        "        list_of_all_models.append(model)\n",
        "    res=[]\n",
        "    for i in range(len(x)):\n",
        "        pred=0\n",
        "        for j in range(len(list_of_all_models)):\n",
        "            pred=pred+list_of_all_models[j].predict(pd.DataFrame(x).iloc[i:i+1,list_selected_columns[j]])\n",
        "        res.append(pred/30)\n",
        "    mse=0\n",
        "    for i in range(len(y)):\n",
        "        mse=mse+(y[i]-res[i])**2\n",
        "    MSE.append(mse/len(y))\n",
        "    oob=[]\n",
        "    for i in range(len(x)):\n",
        "        k=0\n",
        "        score=0\n",
        "        for j in range(30):\n",
        "            if i not in list_selected_row[j]:\n",
        "                score=score+list_of_all_models[j].predict(pd.DataFrame(x).iloc[i:i+1,list_selected_columns[j]])\n",
        "                k=k+1\n",
        "        oob.append(score/k)\n",
        "    oobs=0\n",
        "    for i in range(len(y)):\n",
        "        oobs=oobs+(y[i]-oob[i])**2\n",
        "    OOB.append(oobs/len(y))"
      ]
    },
    {
      "cell_type": "code",
      "execution_count": null,
      "metadata": {
        "id": "FbhhSdNLSLb8"
      },
      "outputs": [],
      "source": [
        "mse_array=np.array(MSE)\n",
        "oobe_array=np.array(OOB)"
      ]
    },
    {
      "cell_type": "code",
      "execution_count": null,
      "metadata": {
        "id": "zon_J-wXSLb8",
        "outputId": "e7fc3748-270a-4cb6-df57-be7220bbf302"
      },
      "outputs": [
        {
          "data": {
            "text/plain": [
              "array([[12.56321193],\n",
              "       [14.64878571],\n",
              "       [13.0193236 ],\n",
              "       [15.83224999],\n",
              "       [12.03296095],\n",
              "       [11.85355395],\n",
              "       [13.79678996],\n",
              "       [12.08095216],\n",
              "       [12.93054865],\n",
              "       [12.94641587],\n",
              "       [13.85506057],\n",
              "       [13.5029281 ],\n",
              "       [13.84524518],\n",
              "       [14.16294273],\n",
              "       [13.49651339],\n",
              "       [13.82054308],\n",
              "       [13.72949537],\n",
              "       [14.91213505],\n",
              "       [12.74918812],\n",
              "       [14.18561361],\n",
              "       [14.52724033],\n",
              "       [14.27723319],\n",
              "       [13.90537168],\n",
              "       [12.33365125],\n",
              "       [14.21638012],\n",
              "       [13.81523547],\n",
              "       [14.72673991],\n",
              "       [12.95829456],\n",
              "       [12.06783191],\n",
              "       [14.40264488],\n",
              "       [14.13013356],\n",
              "       [13.84772594],\n",
              "       [13.53979863],\n",
              "       [11.04838467],\n",
              "       [13.56715496]])"
            ]
          },
          "execution_count": 162,
          "metadata": {},
          "output_type": "execute_result"
        }
      ],
      "source": [
        "oobe_array"
      ]
    },
    {
      "cell_type": "code",
      "execution_count": null,
      "metadata": {
        "id": "WFrAaPBVSLb8",
        "outputId": "1764ba3e-ecc6-41bb-ee10-94b04d5fb9dd"
      },
      "outputs": [
        {
          "name": "stdout",
          "output_type": "stream",
          "text": [
            "Length of RSME ERROR 35\n",
            "Length of OUT OF BAG ERROR 35\n"
          ]
        }
      ],
      "source": [
        "print(\"Length of RSME ERROR\",len(mse_array));\n",
        "print(\"Length of OUT OF BAG ERROR\",len(oobe_array))"
      ]
    },
    {
      "cell_type": "code",
      "execution_count": null,
      "metadata": {
        "id": "KvFCRF9XSLb9",
        "outputId": "4f1411a3-af8e-4907-bf38-79b9244bf78f"
      },
      "outputs": [
        {
          "name": "stdout",
          "output_type": "stream",
          "text": [
            "95% Confidental LeveL Interval\n",
            "2.2589020474154498 2.41986602230226\n"
          ]
        }
      ],
      "source": [
        "import math\n",
        "n1=len(mse_array)\n",
        "x1=np.mean(mse_array)\n",
        "s1=np.std(mse_array)\n",
        "z=1.960\n",
        "print(\"95% Confidental LeveL Interval\")\n",
        "z11= x1-(z*s1)/math.sqrt(n1)\n",
        "z12=x1+(z*s1)/math.sqrt(n1)\n",
        "print(z11,z12)"
      ]
    },
    {
      "cell_type": "code",
      "execution_count": null,
      "metadata": {
        "id": "BRm4FJL2SLb9",
        "outputId": "5941175a-eb5b-4f71-cb9a-2fdb357c19fc"
      },
      "outputs": [
        {
          "name": "stdout",
          "output_type": "stream",
          "text": [
            "95% Confidental LeveL Interval\n",
            "13.19566089203842 13.851669338055968\n"
          ]
        }
      ],
      "source": [
        "n2=len(oobe_array)\n",
        "x2=np.mean(oobe_array)\n",
        "s2=np.std(oobe_array)\n",
        "z=1.960\n",
        "print(\"95% Confidental LeveL Interval\")\n",
        "z21= x2-(z*s2)/math.sqrt(n2)\n",
        "z22=x2+(z*s2)/math.sqrt(n2)\n",
        "print(z21,z22)"
      ]
    },
    {
      "cell_type": "markdown",
      "metadata": {
        "id": "jKTnJdiBVS_e"
      },
      "source": [
        "# <font color='blue'><b>Task 3</b></font>"
      ]
    },
    {
      "cell_type": "markdown",
      "metadata": {
        "id": "eXxrvZqHV1Fr"
      },
      "source": [
        "<font color='orange'><b>Flowchart for Task 3</b></font>"
      ]
    },
    {
      "cell_type": "markdown",
      "metadata": {
        "id": "NyjwEJ62V6a6"
      },
      "source": [
        "<b>Hint: </b> We created 30 models by using 30 samples in TASK-1. Here, we need send query point \"xq\"  to 30 models and perform the regression on the output generated by 30 models."
      ]
    },
    {
      "cell_type": "markdown",
      "metadata": {
        "id": "0emSwLL7VurD"
      },
      "source": [
        "![alt text](https://i.imgur.com/Y5cNhQk.png)"
      ]
    },
    {
      "cell_type": "markdown",
      "metadata": {
        "id": "29hjwKlWWDfo"
      },
      "source": [
        "*  <font color='blue'><b> Write code for TASK 3 </b></font>"
      ]
    },
    {
      "cell_type": "code",
      "execution_count": null,
      "metadata": {
        "id": "i_pUlSD-VYD1",
        "outputId": "c8eafccb-ce89-484d-fd3c-1385a7f5784d"
      },
      "outputs": [
        {
          "name": "stdout",
          "output_type": "stream",
          "text": [
            "The output of the given data point [20.59666667]\n"
          ]
        }
      ],
      "source": [
        "xq= [0.18,20.0,5.00,0.0,0.421,5.60,72.2,7.95,7.0,30.0,19.1,372.13,18.60] \n",
        "xq=np.asarray(xq)\n",
        "xq=xq.reshape(1,-1)\n",
        "xq=pd.DataFrame(xq)\n",
        "output=0\n",
        "for j in range(30):\n",
        "    output=output+list_of_all_models[j].predict(xq.iloc[0:1,list_selected_columns[j]])\n",
        "print('The output of the given data point',output/30)"
      ]
    },
    {
      "cell_type": "markdown",
      "metadata": {
        "id": "IOdUi-0xWOJ9"
      },
      "source": [
        "<font color='red'><b>Write observations for task 1, task 2, task 3 indetail</b></font>"
      ]
    },
    {
      "cell_type": "code",
      "metadata": {
        "id": "AIcax45hWKT-"
      },
      "source": [
        "Task-1:\n",
        "\n",
        "    MSE: 2.28930857\n",
        "    OOB Score: 14.85508413\n",
        "    \n",
        "Task-2:\n",
        "\n",
        "    MSE:\n",
        "        95% Confidental LeveL Interval\n",
        "        2.2589020474154498 2.41986602230226\n",
        "    OOB:\n",
        "        95% Confidental LeveL Interval\n",
        "        13.19566089203842 13.851669338055968\n",
        "\n",
        "Task-3:\n",
        "\n",
        "    The output of the given data point 20.59666667\n"
      ],
      "execution_count": null,
      "outputs": []
    }
  ],
  "metadata": {
    "colab": {
      "provenance": []
    },
    "kernelspec": {
      "display_name": "Python 3",
      "language": "python",
      "name": "python3"
    },
    "language_info": {
      "codemirror_mode": {
        "name": "ipython",
        "version": 3
      },
      "file_extension": ".py",
      "mimetype": "text/x-python",
      "name": "python",
      "nbconvert_exporter": "python",
      "pygments_lexer": "ipython3",
      "version": "3.7.1"
    }
  },
  "nbformat": 4,
  "nbformat_minor": 0
}